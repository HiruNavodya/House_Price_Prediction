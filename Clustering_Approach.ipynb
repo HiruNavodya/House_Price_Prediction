{
 "cells": [
  {
   "cell_type": "code",
   "execution_count": 1,
   "id": "8b56bf64",
   "metadata": {},
   "outputs": [],
   "source": [
    "import pandas as pd\n",
    "import numpy as np\n",
    "from ydata_profiling import ProfileReport\n",
    "import seaborn as sns\n",
    "import matplotlib.pyplot as plt\n",
    "%matplotlib inline\n",
    "from ydata_profiling import ProfileReport\n",
    "from wordcloud import WordCloud\n",
    "import matplotlib.pyplot as plt\n",
    "import pandas as pd\n",
    "import seaborn as sns\n",
    "import plotly.express as px\n",
    "import plotly.graph_objs as go\n",
    "from plotly.offline import iplot\n",
    "import matplotlib.pyplot as plt\n",
    "from matplotlib.gridspec import GridSpec\n",
    "import seaborn as sns\n",
    "import plotly.express as px\n",
    "import plotly.express as px\n",
    "from plotly.subplots import make_subplots\n",
    "import plotly.graph_objects as go\n",
    "from sklearn.ensemble import RandomForestClassifier\n",
    "from warnings import filterwarnings\n",
    "filterwarnings('ignore')\n",
    "from sklearn.ensemble import RandomForestRegressor\n",
    "import pandas as pd\n",
    "import numpy as np\n",
    "from sklearn.preprocessing import LabelEncoder\n",
    "from sklearn.decomposition import PCA\n",
    "from sklearn.compose import ColumnTransformer\n",
    "from sklearn.pipeline import Pipeline\n",
    "from sklearn.impute import SimpleImputer\n",
    "from sklearn.preprocessing import StandardScaler, OneHotEncoder\n",
    "from sklearn.ensemble import RandomForestRegressor\n",
    "from sklearn.model_selection import train_test_split\n",
    "from sklearn.metrics import mean_squared_error\n",
    "from itertools import combinations\n",
    "from sklearn.cluster import KMeans\n",
    "from sklearn.metrics import silhouette_score\n",
    "from scipy.cluster.hierarchy import linkage, dendrogram\n",
    "from sklearn.metrics import silhouette_score\n",
    "from sklearn.cluster import AgglomerativeClustering\n",
    "from factor_analyzer import FactorAnalyzer\n",
    "from sklearn import preprocessing\n",
    "from sklearn.preprocessing import StandardScaler\n",
    "from sklearn.decomposition import PCA\n",
    "from sklearn.ensemble import GradientBoostingRegressor\n",
    "from sklearn.model_selection import GridSearchCV\n",
    "import xgboost as xgb\n",
    "import lightgbm as lgb\n",
    "from sklearn.metrics import r2_score\n",
    "from sklearn.linear_model import ElasticNet\n",
    "from sklearn.model_selection import GridSearchCV\n",
    "from sklearn.metrics import mean_squared_error\n",
    "from sklearn.model_selection import GridSearchCV\n",
    "from sklearn.feature_selection import RFECV\n",
    "from sklearn.metrics import mean_squared_error\n",
    "from sklearn.ensemble import GradientBoostingRegressor\n",
    "from sklearn.model_selection import train_test_split\n",
    "from sklearn.metrics import silhouette_samples\n",
    "from collections import Counter\n",
    "from kmodes.kprototypes import KPrototypes\n",
    "import numpy as np\n",
    "import matplotlib.pyplot as plt\n",
    "from matplotlib import cm\n",
    "from sklearn.metrics import silhouette_samples, silhouette_score"
   ]
  },
  {
   "cell_type": "code",
   "execution_count": 2,
   "id": "8b22b76c",
   "metadata": {},
   "outputs": [],
   "source": [
    "data = pd.read_csv('data (3).csv', index_col='date')\n",
    "def Basic_Preprocessing(df):\n",
    "    df.index = pd.to_datetime(df.index)\n",
    "    df.index = df.index.date  \n",
    "\n",
    "    \n",
    "    df.drop(columns=['country','street'],inplace=True)\n",
    "    df = df[df['price'] != 0]\n",
    "    df['yr_renovated'] = df['yr_renovated'].apply(lambda x: 1 if x!=0 else 0)\n",
    "    df['waterfront'] =  df['waterfront'].apply(lambda x: 1 if x!=0 else 0)\n",
    "    df['yr_built'] = df['yr_built'].apply(lambda x: 1 if x > df['yr_built'].median() else 0)\n",
    "    df['sqft_total'] = df['sqft_basement'] + df['sqft_above']\n",
    "    df.drop(columns=['sqft_basement','sqft_above'],inplace=True)\n",
    "    df.drop(columns=['statezip'],inplace=True)\n",
    "\n",
    "    #df['month'] = pd.to_datetime(df.index).month\n",
    "    #df['date'] = pd.to_datetime(df.index).day\n",
    "    \n",
    "    df.reset_index(drop=True, inplace=True)\n",
    "\n",
    "    return df \n",
    "\n",
    "df = Basic_Preprocessing(data)\n",
    "\n",
    "X = df.drop(columns=['price'])\n",
    "y= df['price']\n",
    "X_train , X_test , y_train , y_test = train_test_split(X,y,test_size=0.2)\n"
   ]
  },
  {
   "cell_type": "code",
   "execution_count": 3,
   "id": "53bcc241",
   "metadata": {},
   "outputs": [],
   "source": [
    "# Combine X_train and X_test into a single DataFrame\n",
    "X_combined = pd.concat([X_train, X_test], axis=0)\n",
    "\n",
    "# Get the top categories in the combined dataset\n",
    "top_categories = Counter(X_combined['city']).most_common(10)\n",
    "\n",
    "# Extract the top category labels\n",
    "top_category_labels = [category for category, _ in top_categories]\n",
    "\n",
    "# Check if there are only two categories\n",
    "if len(top_category_labels) == 2:\n",
    "    # Create binary columns for the first category\n",
    "    X_train['city_' + str(top_category_labels[0])] = (X_train['city'] == top_category_labels[0]).astype(int)\n",
    "    X_test['city_' + str(top_category_labels[0])] = (X_test['city'] == top_category_labels[0]).astype(int)\n",
    "else:\n",
    "    # Create binary columns for each top category\n",
    "    for category_label in top_category_labels:\n",
    "        X_train['city_' + str(category_label)] = (X_train['city'] == category_label).astype(int)\n",
    "        X_test['city_' + str(category_label)] = (X_test['city'] == category_label).astype(int)\n",
    "\n",
    "# Remove the original 'city' column from both X_train and X_test\n",
    "X_train.drop(columns=['city'], inplace=True)\n",
    "X_test.drop(columns=['city'], inplace=True)"
   ]
  },
  {
   "cell_type": "code",
   "execution_count": null,
   "id": "73845634",
   "metadata": {},
   "outputs": [],
   "source": []
  },
  {
   "cell_type": "code",
   "execution_count": null,
   "id": "0d6edd3c",
   "metadata": {},
   "outputs": [],
   "source": []
  },
  {
   "cell_type": "markdown",
   "id": "cbf05ed4",
   "metadata": {},
   "source": [
    "# Kmeans"
   ]
  },
  {
   "cell_type": "code",
   "execution_count": 4,
   "id": "25559fdc",
   "metadata": {},
   "outputs": [
    {
     "name": "stderr",
     "output_type": "stream",
     "text": [
      "  File \"C:\\Users\\Tharindu\\anaconda3\\Lib\\site-packages\\joblib\\externals\\loky\\backend\\context.py\", line 199, in _count_physical_cores\n",
      "    cpu_info = subprocess.run(\n",
      "               ^^^^^^^^^^^^^^^\n",
      "  File \"C:\\Users\\Tharindu\\anaconda3\\Lib\\subprocess.py\", line 548, in run\n",
      "    with Popen(*popenargs, **kwargs) as process:\n",
      "         ^^^^^^^^^^^^^^^^^^^^^^^^^^^\n",
      "  File \"C:\\Users\\Tharindu\\anaconda3\\Lib\\subprocess.py\", line 1026, in __init__\n",
      "    self._execute_child(args, executable, preexec_fn, close_fds,\n",
      "  File \"C:\\Users\\Tharindu\\anaconda3\\Lib\\subprocess.py\", line 1538, in _execute_child\n",
      "    hp, ht, pid, tid = _winapi.CreateProcess(executable, args,\n",
      "                       ^^^^^^^^^^^^^^^^^^^^^^^^^^^^^^^^^^^^^^^\n"
     ]
    },
    {
     "data": {
      "image/png": "[encoded data removed]",
      "text/plain": [
       "<Figure size 640x480 with 1 Axes>"
      ]
     },
     "metadata": {},
     "output_type": "display_data"
    }
   ],
   "source": [
    "kmeans = KMeans(n_clusters=3, random_state=42)\n",
    "cluster_labels = kmeans.fit_predict(X_train)\n",
    "clusters = kmeans.fit_predict(X_train) \n",
    "\n",
    "# Fit KMeans model\n",
    "kmeans = KMeans(n_clusters=2, random_state=42)\n",
    "cluster_labels = kmeans.fit_predict(X_train)\n",
    "\n",
    "# Compute silhouette scores\n",
    "silhouette_avg = silhouette_score(X_train, cluster_labels)\n",
    "sample_silhouette_values = silhouette_samples(X_train, cluster_labels)\n",
    "\n",
    "# Create silhouette plot\n",
    "fig, ax = plt.subplots()\n",
    "y_lower = 10\n",
    "for i in range(3):\n",
    "    ith_cluster_silhouette_values = \\\n",
    "        sample_silhouette_values[cluster_labels == i]\n",
    "\n",
    "    ith_cluster_silhouette_values.sort()\n",
    "\n",
    "    size_cluster_i = ith_cluster_silhouette_values.shape[0]\n",
    "    y_upper = y_lower + size_cluster_i\n",
    "\n",
    "    color = plt.cm.viridis(float(i) / 3)\n",
    "    ax.fill_betweenx(np.arange(y_lower, y_upper),\n",
    "                      0, ith_cluster_silhouette_values,\n",
    "                      facecolor=color, edgecolor=color, alpha=0.7)\n",
    "\n",
    "    ax.text(-0.05, y_lower + 0.5 * size_cluster_i, str(i))\n",
    "\n",
    "    y_lower = y_upper + 10  # 10 for the 0 samples\n",
    "\n",
    "ax.set_title(\"Silhouette plot\")\n",
    "ax.set_xlabel(\"Silhouette coefficient values\")\n",
    "ax.set_ylabel(\"Cluster label\")\n",
    "\n",
    "# The vertical line for average silhouette score of all the values\n",
    "ax.axvline(x=silhouette_avg, color=\"red\", linestyle=\"--\")\n",
    "\n",
    "ax.set_yticks([])  # Clear the yaxis labels / ticks\n",
    "ax.set_xticks([-0.1, 0, 0.2, 0.4, 0.6, 0.8, 1])\n",
    "\n",
    "plt.show()\n"
   ]
  },
  {
   "cell_type": "code",
   "execution_count": 5,
   "id": "6a2f3d71",
   "metadata": {},
   "outputs": [],
   "source": [
    "X_train['cluster_label'] = cluster_labels"
   ]
  },
  {
   "cell_type": "code",
   "execution_count": 6,
   "id": "b9c27b02",
   "metadata": {},
   "outputs": [
    {
     "data": {
      "text/plain": [
       "cluster_label\n",
       "0    3581\n",
       "1      59\n",
       "Name: count, dtype: int64"
      ]
     },
     "execution_count": 6,
     "metadata": {},
     "output_type": "execute_result"
    }
   ],
   "source": [
    "X_train['cluster_label'].value_counts()"
   ]
  },
  {
   "cell_type": "code",
   "execution_count": null,
   "id": "93dc8910",
   "metadata": {},
   "outputs": [],
   "source": []
  },
  {
   "cell_type": "code",
   "execution_count": null,
   "id": "145192fe",
   "metadata": {},
   "outputs": [],
   "source": []
  },
  {
   "cell_type": "markdown",
   "id": "96720442",
   "metadata": {},
   "source": [
    "# Kprototype"
   ]
  },
  {
   "cell_type": "code",
   "execution_count": 7,
   "id": "a861401a",
   "metadata": {},
   "outputs": [],
   "source": [
    "data = pd.read_csv('data (3).csv', index_col='date')\n",
    "def Basic_Preprocessing(df):\n",
    "    df.index = pd.to_datetime(df.index)\n",
    "    df.index = df.index.date  \n",
    "\n",
    "    \n",
    "    df.drop(columns=['country','street'],inplace=True)\n",
    "    df = df[df['price'] != 0]\n",
    "    df['yr_renovated'] = df['yr_renovated'].apply(lambda x: 1 if x!=0 else 0)\n",
    "    df['waterfront'] =  df['waterfront'].apply(lambda x: 1 if x!=0 else 0)\n",
    "    df['yr_built'] = df['yr_built'].apply(lambda x: 1 if x > df['yr_built'].median() else 0)\n",
    "    df['sqft_total'] = df['sqft_basement'] + df['sqft_above']\n",
    "    df.drop(columns=['sqft_basement','sqft_above'],inplace=True)\n",
    "    df.drop(columns=['statezip'],inplace=True)\n",
    "\n",
    "    #df['month'] = pd.to_datetime(df.index).month\n",
    "    #df['date'] = pd.to_datetime(df.index).day\n",
    "    \n",
    "    df.reset_index(drop=True, inplace=True)\n",
    "\n",
    "    return df \n",
    "\n",
    "df = Basic_Preprocessing(data)\n",
    "\n",
    "X = df.drop(columns=['price'])\n",
    "y= df['price']\n",
    "X_train , X_test , y_train , y_test = train_test_split(X,y,test_size=0.2)\n"
   ]
  },
  {
   "cell_type": "code",
   "execution_count": 8,
   "id": "3ab6b6dc",
   "metadata": {},
   "outputs": [
    {
     "name": "stdout",
     "output_type": "stream",
     "text": [
      "Initialization method and algorithm are deterministic. Setting n_init to 1.\n",
      "Init: initializing centroids\n",
      "Init: initializing clusters\n",
      "Init: initializing centroids\n",
      "Init: initializing clusters\n",
      "Starting iterations...\n",
      "Run: 1, iteration: 1/100, moves: 137, ncost: 1963838915573.141\n",
      "Run: 1, iteration: 2/100, moves: 22, ncost: 1891384385131.4849\n",
      "Run: 1, iteration: 3/100, moves: 12, ncost: 1869316866821.1326\n",
      "Run: 1, iteration: 4/100, moves: 2, ncost: 1868561585444.0679\n",
      "Run: 1, iteration: 5/100, moves: 0, ncost: 1868561585444.0679\n",
      "Init: initializing centroids\n",
      "Init: initializing clusters\n",
      "Init: initializing centroids\n",
      "Init: initializing clusters\n",
      "Starting iterations...\n",
      "Run: 2, iteration: 1/100, moves: 488, ncost: 2800702175607.3423\n",
      "Run: 2, iteration: 2/100, moves: 163, ncost: 1953090758504.1423\n",
      "Run: 2, iteration: 3/100, moves: 23, ncost: 1881112678122.4243\n",
      "Run: 2, iteration: 4/100, moves: 9, ncost: 1868764418050.1724\n",
      "Run: 2, iteration: 5/100, moves: 1, ncost: 1868561585444.0679\n",
      "Run: 2, iteration: 6/100, moves: 0, ncost: 1868561585444.0679\n",
      "Init: initializing centroids\n",
      "Init: initializing clusters\n",
      "Starting iterations...\n",
      "Run: 3, iteration: 1/100, moves: 1098, ncost: 3206681957220.197\n",
      "Run: 3, iteration: 2/100, moves: 262, ncost: 2124591727203.6106\n",
      "Run: 3, iteration: 3/100, moves: 49, ncost: 1894058300015.2527\n",
      "Run: 3, iteration: 4/100, moves: 12, ncost: 1869901522360.2136\n",
      "Run: 3, iteration: 5/100, moves: 3, ncost: 1868561585444.0679\n",
      "Run: 3, iteration: 6/100, moves: 0, ncost: 1868561585444.0679\n",
      "Init: initializing centroids\n",
      "Init: initializing clusters\n",
      "Starting iterations...\n",
      "Run: 4, iteration: 1/100, moves: 62, ncost: 1910064940658.3748\n",
      "Run: 4, iteration: 2/100, moves: 17, ncost: 1870791399865.5178\n",
      "Run: 4, iteration: 3/100, moves: 4, ncost: 1868561585444.0679\n",
      "Run: 4, iteration: 4/100, moves: 0, ncost: 1868561585444.0679\n",
      "Init: initializing centroids\n",
      "Init: initializing clusters\n",
      "Starting iterations...\n",
      "Run: 5, iteration: 1/100, moves: 47, ncost: 1902092449650.7478\n",
      "Run: 5, iteration: 2/100, moves: 14, ncost: 1870791399865.5178\n",
      "Run: 5, iteration: 3/100, moves: 4, ncost: 1868561585444.0679\n",
      "Run: 5, iteration: 4/100, moves: 0, ncost: 1868561585444.0679\n",
      "Init: initializing centroids\n",
      "Init: initializing clusters\n",
      "Starting iterations...\n",
      "Run: 6, iteration: 1/100, moves: 216, ncost: 2134550928275.1213\n",
      "Run: 6, iteration: 2/100, moves: 50, ncost: 1896749304678.0747\n",
      "Run: 6, iteration: 3/100, moves: 12, ncost: 1870791399865.5178\n",
      "Run: 6, iteration: 4/100, moves: 4, ncost: 1868561585444.0679\n",
      "Run: 6, iteration: 5/100, moves: 0, ncost: 1868561585444.0679\n",
      "Init: initializing centroids\n",
      "Init: initializing clusters\n",
      "Starting iterations...\n",
      "Run: 7, iteration: 1/100, moves: 1833, ncost: 3460515207509.833\n",
      "Run: 7, iteration: 2/100, moves: 349, ncost: 2311361893256.7217\n",
      "Run: 7, iteration: 3/100, moves: 73, ncost: 1910185571674.7256\n",
      "Run: 7, iteration: 4/100, moves: 17, ncost: 1870791399865.5178\n",
      "Run: 7, iteration: 5/100, moves: 4, ncost: 1868561585444.0679\n",
      "Run: 7, iteration: 6/100, moves: 0, ncost: 1868561585444.0679\n",
      "Init: initializing centroids\n",
      "Init: initializing clusters\n",
      "Starting iterations...\n",
      "Run: 8, iteration: 1/100, moves: 43, ncost: 1902092449650.7478\n",
      "Run: 8, iteration: 2/100, moves: 14, ncost: 1870791399865.5178\n",
      "Run: 8, iteration: 3/100, moves: 4, ncost: 1868561585444.0679\n",
      "Run: 8, iteration: 4/100, moves: 0, ncost: 1868561585444.0679\n",
      "Init: initializing centroids\n",
      "Init: initializing clusters\n",
      "Starting iterations...\n",
      "Run: 9, iteration: 1/100, moves: 78, ncost: 1916221690049.226\n",
      "Run: 9, iteration: 2/100, moves: 19, ncost: 1870791399865.5178\n",
      "Run: 9, iteration: 3/100, moves: 4, ncost: 1868561585444.0679\n",
      "Run: 9, iteration: 4/100, moves: 0, ncost: 1868561585444.0679\n",
      "Init: initializing centroids\n",
      "Init: initializing clusters\n",
      "Starting iterations...\n",
      "Run: 10, iteration: 1/100, moves: 91, ncost: 1929715303856.523\n",
      "Run: 10, iteration: 2/100, moves: 18, ncost: 1878960419904.5483\n",
      "Run: 10, iteration: 3/100, moves: 8, ncost: 1868764418050.1724\n",
      "Run: 10, iteration: 4/100, moves: 1, ncost: 1868561585444.0679\n",
      "Run: 10, iteration: 5/100, moves: 0, ncost: 1868561585444.0679\n",
      "Best run was number 1\n"
     ]
    }
   ],
   "source": [
    "from kmodes.kprototypes import KPrototypes\n",
    "#X_train_3['waterfront'].replace({1: 'y', 0: 'n'}, inplace=True)\n",
    "#X_train_3['yr_renovated'].replace({1: 'y', 0: 'n'}, inplace=True)\n",
    "categorical_columns=[5,8,9,10]\n",
    "\n",
    "np.random.seed(100)\n",
    "# Initialize and fit the k-prototype model\n",
    "kproto = KPrototypes(n_clusters=2, verbose=2,random_state=100)\n",
    "clusters = kproto.fit_predict(X_train, categorical=categorical_columns)\n",
    "\n",
    "# Access the cluster centroids and labels\n",
    "centroids = kproto.cluster_centroids_\n",
    "labels = kproto.labels_"
   ]
  },
  {
   "cell_type": "code",
   "execution_count": 9,
   "id": "8f9ed544",
   "metadata": {},
   "outputs": [],
   "source": [
    "X_train['cluster_label']= labels"
   ]
  },
  {
   "cell_type": "code",
   "execution_count": 10,
   "id": "0c8d3d02",
   "metadata": {},
   "outputs": [
    {
     "data": {
      "text/plain": [
       "cluster_label\n",
       "0    3572\n",
       "1      68\n",
       "Name: count, dtype: int64"
      ]
     },
     "execution_count": 10,
     "metadata": {},
     "output_type": "execute_result"
    }
   ],
   "source": [
    "X_train['cluster_label'].value_counts()"
   ]
  },
  {
   "cell_type": "code",
   "execution_count": null,
   "id": "f7e70717",
   "metadata": {},
   "outputs": [],
   "source": []
  },
  {
   "cell_type": "code",
   "execution_count": null,
   "id": "c3d902d9",
   "metadata": {},
   "outputs": [],
   "source": []
  },
  {
   "cell_type": "code",
   "execution_count": null,
   "id": "0fba4693",
   "metadata": {},
   "outputs": [],
   "source": []
  },
  {
   "cell_type": "code",
   "execution_count": null,
   "id": "db2181b8",
   "metadata": {},
   "outputs": [],
   "source": []
  },
  {
   "cell_type": "code",
   "execution_count": null,
   "id": "af645848",
   "metadata": {},
   "outputs": [],
   "source": []
  },
  {
   "cell_type": "markdown",
   "id": "4af5c783",
   "metadata": {},
   "source": [
    "# PCA => Clustering "
   ]
  },
  {
   "cell_type": "code",
   "execution_count": 11,
   "id": "3c2ac47b",
   "metadata": {},
   "outputs": [],
   "source": [
    "data = pd.read_csv('data (3).csv', index_col='date')\n",
    "def Basic_Preprocessing(df):\n",
    "    df.index = pd.to_datetime(df.index)\n",
    "    df.index = df.index.date  \n",
    "\n",
    "    \n",
    "    df.drop(columns=['country','street'],inplace=True)\n",
    "    df = df[df['price'] != 0]\n",
    "    df['yr_renovated'] = df['yr_renovated'].apply(lambda x: 1 if x!=0 else 0)\n",
    "    df['waterfront'] =  df['waterfront'].apply(lambda x: 1 if x!=0 else 0)\n",
    "    df['yr_built'] = df['yr_built'].apply(lambda x: 1 if x > df['yr_built'].median() else 0)\n",
    "    df['sqft_total'] = df['sqft_basement'] + df['sqft_above']\n",
    "    df.drop(columns=['sqft_basement','sqft_above'],inplace=True)\n",
    "    df.drop(columns=['statezip'],inplace=True)\n",
    "\n",
    "    #df['month'] = pd.to_datetime(df.index).month\n",
    "    #df['date'] = pd.to_datetime(df.index).day\n",
    "    \n",
    "    df.reset_index(drop=True, inplace=True)\n",
    "\n",
    "    return df \n",
    "\n",
    "df = Basic_Preprocessing(data)\n",
    "\n",
    "X = df.drop(columns=['price'])\n",
    "y= df['price']\n",
    "X_train , X_test , y_train , y_test = train_test_split(X,y,test_size=0.2)\n"
   ]
  },
  {
   "cell_type": "code",
   "execution_count": 12,
   "id": "ed7ab78e",
   "metadata": {},
   "outputs": [],
   "source": [
    "# Combine X_train and X_test into a single DataFrame\n",
    "X_combined = pd.concat([X_train, X_test], axis=0)\n",
    "\n",
    "# Get the top categories in the combined dataset\n",
    "top_categories = Counter(X_combined['city']).most_common(10)\n",
    "\n",
    "# Extract the top category labels\n",
    "top_category_labels = [category for category, _ in top_categories]\n",
    "\n",
    "# Check if there are only two categories\n",
    "if len(top_category_labels) == 2:\n",
    "    # Create binary columns for the first category\n",
    "    X_train['city_' + str(top_category_labels[0])] = (X_train['city'] == top_category_labels[0]).astype(int)\n",
    "    X_test['city_' + str(top_category_labels[0])] = (X_test['city'] == top_category_labels[0]).astype(int)\n",
    "else:\n",
    "    # Create binary columns for each top category\n",
    "    for category_label in top_category_labels:\n",
    "        X_train['city_' + str(category_label)] = (X_train['city'] == category_label).astype(int)\n",
    "        X_test['city_' + str(category_label)] = (X_test['city'] == category_label).astype(int)\n",
    "\n",
    "# Remove the original 'city' column from both X_train and X_test\n",
    "X_train.drop(columns=['city'], inplace=True)\n",
    "X_test.drop(columns=['city'], inplace=True)"
   ]
  },
  {
   "cell_type": "code",
   "execution_count": 13,
   "id": "dae89c0e",
   "metadata": {},
   "outputs": [],
   "source": [
    "vars_to_apply_pca = ['bedrooms','bathrooms','sqft_living','sqft_lot','floors',\n",
    "                'view', 'condition']  \n",
    "vars_not_to_apply_pca = [col for col in X_train.columns if col not in vars_to_apply_pca]\n"
   ]
  },
  {
   "cell_type": "code",
   "execution_count": 14,
   "id": "54e11512",
   "metadata": {},
   "outputs": [
    {
     "data": {
      "image/png": "[encoded data removed]",
      "text/plain": [
       "<Figure size 1000x600 with 1 Axes>"
      ]
     },
     "metadata": {},
     "output_type": "display_data"
    }
   ],
   "source": [
    "X_train_pca = X_train[vars_to_apply_pca]\n",
    "scaler = StandardScaler()\n",
    "X_train_pca_standardized = scaler.fit_transform(X_train_pca)\n",
    "\n",
    "pca = PCA()\n",
    "X_train_pca_transformed = pca.fit_transform(X_train_pca_standardized)\n",
    "explained_variance_ratio = pca.explained_variance_ratio_\n",
    "\n",
    "\n",
    "plt.figure(figsize=(10, 6))\n",
    "plt.bar(range(1, len(explained_variance_ratio) + 1), explained_variance_ratio, alpha=0.7, align='center')\n",
    "plt.xlabel('Principal Component')\n",
    "plt.ylabel('Explained Variance Ratio')\n",
    "plt.title('Explained Variance Ratio by Principal Component')\n",
    "plt.show()"
   ]
  },
  {
   "cell_type": "code",
   "execution_count": 15,
   "id": "5a3da589",
   "metadata": {},
   "outputs": [
    {
     "data": {
      "image/png": "[encoded data removed]",
      "text/plain": [
       "<Figure size 800x600 with 1 Axes>"
      ]
     },
     "metadata": {},
     "output_type": "display_data"
    }
   ],
   "source": [
    "plt.figure(figsize=(8, 6))\n",
    "plt.plot(range(1, len(pca.explained_variance_ratio_) + 1), np.cumsum(pca.explained_variance_ratio_), marker='o', linestyle='-')\n",
    "plt.xlabel('Number of Principal Components')\n",
    "plt.ylabel('Cumulative Explained Variance Ratio')\n",
    "plt.title('Scree Plot')\n",
    "plt.grid(True)\n",
    "plt.show()"
   ]
  },
  {
   "cell_type": "code",
   "execution_count": 16,
   "id": "039d991f",
   "metadata": {},
   "outputs": [],
   "source": [
    "pca = PCA(n_components=4)\n",
    "X_train_pca_transformed = pca.fit_transform(X_train_pca_standardized)\n",
    "\n",
    "# Create DataFrame for X_train_pca_transformed with the index of X_train\n",
    "X_train_new = pd.DataFrame(data=X_train_pca_transformed, columns=['PC1', 'PC2','PC3','PC4'], index=X_train.index)\n",
    "X_train_new[vars_not_to_apply_pca] = X_train[vars_not_to_apply_pca]"
   ]
  },
  {
   "cell_type": "code",
   "execution_count": 17,
   "id": "fcd107a6",
   "metadata": {},
   "outputs": [],
   "source": [
    "X_test_pca = X_test[vars_to_apply_pca]\n",
    "scaler = StandardScaler()\n",
    "X_test_pca_standardized = scaler.fit_transform(X_test_pca)\n",
    "\n",
    "\n",
    "# Apply the same PCA transformation on the standardized test set\n",
    "X_test_pca_transformed = pca.transform(X_test_pca_standardized)\n",
    "\n",
    "# Create DataFrame for X_test_pca_transformed with the index of X_test\n",
    "X_test_new = pd.DataFrame(data=X_test_pca_transformed, columns=['PC1', 'PC2', 'PC3', 'PC4'], index=X_test.index)\n",
    "X_test_new[vars_not_to_apply_pca] = X_test[vars_not_to_apply_pca]\n"
   ]
  },
  {
   "cell_type": "code",
   "execution_count": 18,
   "id": "4238c5b9",
   "metadata": {},
   "outputs": [],
   "source": [
    "# Yeo-Johnson transformation for pcs \n",
    "from sklearn.preprocessing import PowerTransformer\n",
    "\n",
    "columns_to_transform = ['PC1', 'PC2', 'PC3','PC4']\n",
    "transformer = PowerTransformer(method='yeo-johnson')\n",
    "\n",
    "X_train_new[columns_to_transform] = transformer.fit_transform(X_train_new[columns_to_transform])\n",
    "X_test_new[columns_to_transform] = transformer.transform(X_test_new[columns_to_transform])\n",
    "\n",
    "\n",
    "# Apply logarithmic transformation to y variable (target variable)\n",
    "y_train_new = np.log(y_train)\n",
    "y_test_new = np.log(y_test)\n"
   ]
  },
  {
   "cell_type": "code",
   "execution_count": null,
   "id": "b22e6374",
   "metadata": {},
   "outputs": [],
   "source": []
  },
  {
   "cell_type": "markdown",
   "id": "d35594fd",
   "metadata": {},
   "source": [
    "# For the final evaluation \n",
    "* X_train_new , X_test_new , y_train_new , y_test_new\n"
   ]
  },
  {
   "cell_type": "code",
   "execution_count": null,
   "id": "e8972164",
   "metadata": {},
   "outputs": [],
   "source": []
  },
  {
   "cell_type": "code",
   "execution_count": 19,
   "id": "e45ed1d2",
   "metadata": {},
   "outputs": [
    {
     "name": "stdout",
     "output_type": "stream",
     "text": [
      "Initialization method and algorithm are deterministic. Setting n_init to 1.\n",
      "Init: initializing centroids\n",
      "Init: initializing clusters\n",
      "Starting iterations...\n",
      "Run: 1, iteration: 1/100, moves: 307, ncost: 12997.46226392824\n",
      "Run: 1, iteration: 2/100, moves: 90, ncost: 12983.888072488975\n",
      "Run: 1, iteration: 3/100, moves: 49, ncost: 12979.975079493146\n",
      "Run: 1, iteration: 4/100, moves: 22, ncost: 12979.154928754948\n",
      "Run: 1, iteration: 5/100, moves: 11, ncost: 12978.846010151332\n",
      "Run: 1, iteration: 6/100, moves: 4, ncost: 12978.801627812609\n",
      "Run: 1, iteration: 7/100, moves: 1, ncost: 12978.798076005329\n",
      "Run: 1, iteration: 8/100, moves: 0, ncost: 12978.798076005329\n",
      "Init: initializing centroids\n",
      "Init: initializing clusters\n",
      "Starting iterations...\n",
      "Run: 2, iteration: 1/100, moves: 948, ncost: 13994.593126352376\n",
      "Run: 2, iteration: 2/100, moves: 454, ncost: 13713.637610880074\n",
      "Run: 2, iteration: 3/100, moves: 187, ncost: 13637.420757468979\n",
      "Run: 2, iteration: 4/100, moves: 101, ncost: 13614.028573784833\n",
      "Run: 2, iteration: 5/100, moves: 39, ncost: 13608.101734658307\n",
      "Run: 2, iteration: 6/100, moves: 45, ncost: 13600.805516800687\n",
      "Run: 2, iteration: 7/100, moves: 51, ncost: 13589.57938911091\n",
      "Run: 2, iteration: 8/100, moves: 78, ncost: 13561.12663095141\n",
      "Run: 2, iteration: 9/100, moves: 134, ncost: 13478.744674328533\n",
      "Run: 2, iteration: 10/100, moves: 188, ncost: 13298.824057756912\n",
      "Run: 2, iteration: 11/100, moves: 161, ncost: 13225.573049148297\n",
      "Run: 2, iteration: 12/100, moves: 278, ncost: 13004.290986188298\n",
      "Run: 2, iteration: 13/100, moves: 381, ncost: 12740.737369453413\n",
      "Run: 2, iteration: 14/100, moves: 248, ncost: 12629.333712956593\n",
      "Run: 2, iteration: 15/100, moves: 153, ncost: 12580.515798261858\n",
      "Run: 2, iteration: 16/100, moves: 150, ncost: 12535.988705765225\n",
      "Run: 2, iteration: 17/100, moves: 100, ncost: 12514.617859521268\n",
      "Run: 2, iteration: 18/100, moves: 35, ncost: 12511.406308310055\n",
      "Run: 2, iteration: 19/100, moves: 9, ncost: 12510.399853486817\n",
      "Run: 2, iteration: 20/100, moves: 9, ncost: 12509.994679451338\n",
      "Run: 2, iteration: 21/100, moves: 9, ncost: 12509.545727955057\n",
      "Run: 2, iteration: 22/100, moves: 3, ncost: 12509.44022363722\n",
      "Run: 2, iteration: 23/100, moves: 3, ncost: 12509.301304252696\n",
      "Run: 2, iteration: 24/100, moves: 1, ncost: 12509.290609879556\n",
      "Run: 2, iteration: 25/100, moves: 0, ncost: 12509.290609879556\n",
      "Init: initializing centroids\n",
      "Init: initializing clusters\n",
      "Starting iterations...\n",
      "Run: 3, iteration: 1/100, moves: 592, ncost: 13623.188625891242\n",
      "Run: 3, iteration: 2/100, moves: 779, ncost: 12699.871359609893\n",
      "Run: 3, iteration: 3/100, moves: 338, ncost: 12558.118510953873\n",
      "Run: 3, iteration: 4/100, moves: 129, ncost: 12519.152979276501\n",
      "Run: 3, iteration: 5/100, moves: 56, ncost: 12510.849235233078\n",
      "Run: 3, iteration: 6/100, moves: 19, ncost: 12509.878388724801\n",
      "Run: 3, iteration: 7/100, moves: 13, ncost: 12509.287672359722\n",
      "Run: 3, iteration: 8/100, moves: 2, ncost: 12509.279784865153\n",
      "Run: 3, iteration: 9/100, moves: 0, ncost: 12509.279784865153\n",
      "Init: initializing centroids\n",
      "Init: initializing clusters\n",
      "Starting iterations...\n",
      "Run: 4, iteration: 1/100, moves: 165, ncost: 13657.62559676371\n",
      "Run: 4, iteration: 2/100, moves: 45, ncost: 13632.298077293111\n",
      "Run: 4, iteration: 3/100, moves: 71, ncost: 13612.635957382303\n",
      "Run: 4, iteration: 4/100, moves: 61, ncost: 13606.622013881837\n",
      "Run: 4, iteration: 5/100, moves: 32, ncost: 13604.93515954063\n",
      "Run: 4, iteration: 6/100, moves: 21, ncost: 13604.14112460385\n",
      "Run: 4, iteration: 7/100, moves: 12, ncost: 13603.89098191264\n",
      "Run: 4, iteration: 8/100, moves: 6, ncost: 13603.833917756068\n",
      "Run: 4, iteration: 9/100, moves: 1, ncost: 13603.82819557423\n",
      "Run: 4, iteration: 10/100, moves: 1, ncost: 13603.826542705703\n",
      "Run: 4, iteration: 11/100, moves: 0, ncost: 13603.826542705703\n",
      "Init: initializing centroids\n",
      "Init: initializing clusters\n",
      "Starting iterations...\n",
      "Run: 5, iteration: 1/100, moves: 754, ncost: 12826.559653204215\n",
      "Run: 5, iteration: 2/100, moves: 354, ncost: 12608.68106648047\n",
      "Run: 5, iteration: 3/100, moves: 211, ncost: 12529.893545564122\n",
      "Run: 5, iteration: 4/100, moves: 97, ncost: 12512.014131521433\n",
      "Run: 5, iteration: 5/100, moves: 33, ncost: 12509.520083835645\n",
      "Run: 5, iteration: 6/100, moves: 6, ncost: 12509.360894242873\n",
      "Run: 5, iteration: 7/100, moves: 4, ncost: 12509.281774888783\n",
      "Run: 5, iteration: 8/100, moves: 0, ncost: 12509.281774888783\n",
      "Init: initializing centroids\n",
      "Init: initializing clusters\n",
      "Starting iterations...\n",
      "Run: 6, iteration: 1/100, moves: 757, ncost: 12825.275258326492\n",
      "Run: 6, iteration: 2/100, moves: 369, ncost: 12606.145618071238\n",
      "Run: 6, iteration: 3/100, moves: 212, ncost: 12527.453027747762\n",
      "Run: 6, iteration: 4/100, moves: 86, ncost: 12511.346741520465\n",
      "Run: 6, iteration: 5/100, moves: 29, ncost: 12509.446093695713\n",
      "Run: 6, iteration: 6/100, moves: 6, ncost: 12509.367659216008\n",
      "Run: 6, iteration: 7/100, moves: 4, ncost: 12509.298408588642\n",
      "Run: 6, iteration: 8/100, moves: 0, ncost: 12509.298408588642\n",
      "Init: initializing centroids\n",
      "Init: initializing clusters\n",
      "Starting iterations...\n",
      "Run: 7, iteration: 1/100, moves: 697, ncost: 12629.482049091313\n",
      "Run: 7, iteration: 2/100, moves: 252, ncost: 12529.350429069757\n",
      "Run: 7, iteration: 3/100, moves: 95, ncost: 12511.471648317922\n",
      "Run: 7, iteration: 4/100, moves: 37, ncost: 12509.4168602651\n",
      "Run: 7, iteration: 5/100, moves: 8, ncost: 12509.279784865152\n",
      "Run: 7, iteration: 6/100, moves: 0, ncost: 12509.279784865152\n",
      "Init: initializing centroids\n",
      "Init: initializing clusters\n",
      "Starting iterations...\n",
      "Run: 8, iteration: 1/100, moves: 542, ncost: 14089.81847277469\n",
      "Run: 8, iteration: 2/100, moves: 355, ncost: 13724.953164442968\n",
      "Run: 8, iteration: 3/100, moves: 155, ncost: 13635.856693844891\n",
      "Run: 8, iteration: 4/100, moves: 95, ncost: 13606.803408193848\n",
      "Run: 8, iteration: 5/100, moves: 38, ncost: 13603.442826730392\n",
      "Run: 8, iteration: 6/100, moves: 13, ncost: 13603.151155694697\n",
      "Run: 8, iteration: 7/100, moves: 4, ncost: 13603.114809494335\n",
      "Run: 8, iteration: 8/100, moves: 1, ncost: 13603.113159834798\n",
      "Run: 8, iteration: 9/100, moves: 0, ncost: 13603.113159834798\n",
      "Init: initializing centroids\n",
      "Init: initializing clusters\n",
      "Starting iterations...\n",
      "Run: 9, iteration: 1/100, moves: 769, ncost: 14033.498318376867\n",
      "Run: 9, iteration: 2/100, moves: 679, ncost: 13072.41117150725\n",
      "Run: 9, iteration: 3/100, moves: 455, ncost: 12676.663734025167\n",
      "Run: 9, iteration: 4/100, moves: 217, ncost: 12592.547920209314\n",
      "Run: 9, iteration: 5/100, moves: 175, ncost: 12541.180510021797\n",
      "Run: 9, iteration: 6/100, moves: 99, ncost: 12518.50883830112\n",
      "Run: 9, iteration: 7/100, moves: 48, ncost: 12512.205065457289\n",
      "Run: 9, iteration: 8/100, moves: 14, ncost: 12510.490787384866\n",
      "Run: 9, iteration: 9/100, moves: 10, ncost: 12509.994679451338\n",
      "Run: 9, iteration: 10/100, moves: 9, ncost: 12509.54572795506\n",
      "Run: 9, iteration: 11/100, moves: 3, ncost: 12509.440223637217\n",
      "Run: 9, iteration: 12/100, moves: 3, ncost: 12509.301304252696\n",
      "Run: 9, iteration: 13/100, moves: 1, ncost: 12509.290609879554\n",
      "Run: 9, iteration: 14/100, moves: 0, ncost: 12509.290609879554\n",
      "Init: initializing centroids\n",
      "Init: initializing clusters\n",
      "Starting iterations...\n",
      "Run: 10, iteration: 1/100, moves: 1173, ncost: 13054.43811581862\n",
      "Run: 10, iteration: 2/100, moves: 525, ncost: 12722.16914832697\n",
      "Run: 10, iteration: 3/100, moves: 260, ncost: 12608.46595871527\n",
      "Run: 10, iteration: 4/100, moves: 168, ncost: 12551.614072130986\n",
      "Run: 10, iteration: 5/100, moves: 138, ncost: 12517.227142172847\n",
      "Run: 10, iteration: 6/100, moves: 58, ncost: 12510.660021605918\n",
      "Run: 10, iteration: 7/100, moves: 15, ncost: 12510.156074105682\n",
      "Run: 10, iteration: 8/100, moves: 13, ncost: 12509.47844110838\n",
      "Run: 10, iteration: 9/100, moves: 2, ncost: 12509.380543032616\n",
      "Run: 10, iteration: 10/100, moves: 2, ncost: 12509.301304252698\n",
      "Run: 10, iteration: 11/100, moves: 1, ncost: 12509.290609879556\n",
      "Run: 10, iteration: 12/100, moves: 0, ncost: 12509.290609879556\n",
      "Best run was number 7\n"
     ]
    }
   ],
   "source": [
    "from kmodes.kprototypes import KPrototypes\n",
    "\n",
    "categorical_columns=[4,5,6,7]\n",
    "\n",
    "np.random.seed(100)\n",
    "\n",
    "kproto = KPrototypes(n_clusters=3, verbose=2,random_state=100)\n",
    "clusters = kproto.fit_predict(X_train_new, categorical=categorical_columns)\n",
    "\n",
    "\n",
    "centroids = kproto.cluster_centroids_\n",
    "labels = kproto.labels_"
   ]
  },
  {
   "cell_type": "code",
   "execution_count": null,
   "id": "d5fd9a4d",
   "metadata": {},
   "outputs": [],
   "source": []
  },
  {
   "cell_type": "code",
   "execution_count": 20,
   "id": "6758bef8",
   "metadata": {},
   "outputs": [],
   "source": [
    "X_train_new['cluster_label'] = labels\n",
    "\n",
    "X_train_cluster_0 = X_train_new[X_train_new['cluster_label']==0].drop(columns=['cluster_label'])\n",
    "X_train_cluster_1 = X_train_new[X_train_new['cluster_label']==1].drop(columns=['cluster_label'])\n",
    "X_train_cluster_2 = X_train_new[X_train_new['cluster_label']==2].drop(columns=['cluster_label'])\n",
    "\n",
    "\n",
    "\n",
    "# Extract target values for each cluster\n",
    "y_train_cluster_0 = y_train_new[X_train_new['cluster_label'] == 0]\n",
    "y_train_cluster_1 = y_train_new[X_train_new['cluster_label'] == 1]\n",
    "y_train_cluster_2 = y_train_new[X_train_new['cluster_label'] == 2]\n"
   ]
  },
  {
   "cell_type": "code",
   "execution_count": null,
   "id": "161e9639",
   "metadata": {},
   "outputs": [],
   "source": []
  },
  {
   "cell_type": "code",
   "execution_count": null,
   "id": "8c31e3f1",
   "metadata": {},
   "outputs": [],
   "source": []
  },
  {
   "cell_type": "code",
   "execution_count": null,
   "id": "0447dc85",
   "metadata": {},
   "outputs": [],
   "source": []
  },
  {
   "cell_type": "markdown",
   "id": "fc2839e1",
   "metadata": {},
   "source": [
    "# Best model for cluster 0 "
   ]
  },
  {
   "cell_type": "code",
   "execution_count": 21,
   "id": "56c0e688",
   "metadata": {},
   "outputs": [],
   "source": [
    "x_train_new , x_test_new, y_train_new_0, y_test_new_0 = train_test_split(X_train_cluster_0,y_train_cluster_0,test_size=0.2)\n"
   ]
  },
  {
   "cell_type": "code",
   "execution_count": 22,
   "id": "05185567",
   "metadata": {},
   "outputs": [],
   "source": [
    "gb_params = {\n",
    "    'n_estimators': [50, 100, 200, 300],\n",
    "    'learning_rate': [0.01, 0.05, 0.1, 0.2],\n",
    "    'max_depth': [3, 5, 7, 9],\n",
    "    'min_samples_split': [2, 5, 10],\n",
    "    'min_samples_leaf': [1, 2, 4],\n",
    "    'subsample': [0.5, 0.75, 1.0],\n",
    "    'max_features': ['auto', 'sqrt', 'log2']\n",
    "}\n",
    "\n",
    "# Create GradientBoostingRegressor\n",
    "gb_reg = GradientBoostingRegressor()\n",
    "\n",
    "# Grid search\n",
    "grid_search = GridSearchCV(estimator=gb_reg, param_grid=gb_params,\n",
    "                           cv=5, scoring='neg_mean_squared_error',\n",
    "                           n_jobs=-1)\n",
    "# Fit GridSearchCV\n",
    "grid_search.fit(x_train_new, y_train_new_0)\n",
    "\n",
    "# Get the best model\n",
    "best_gb_model_0 = grid_search.best_estimator_"
   ]
  },
  {
   "cell_type": "code",
   "execution_count": 23,
   "id": "ae6f338b",
   "metadata": {},
   "outputs": [
    {
     "data": {
      "text/plain": [
       "0.24621077886873732"
      ]
     },
     "execution_count": 23,
     "metadata": {},
     "output_type": "execute_result"
    }
   ],
   "source": [
    "np.sqrt(mean_squared_error(y_test_new_0,best_gb_model_0.predict(x_test_new)))"
   ]
  },
  {
   "cell_type": "code",
   "execution_count": 24,
   "id": "04509dfc",
   "metadata": {},
   "outputs": [
    {
     "data": {
      "text/plain": [
       "0.18032915825372917"
      ]
     },
     "execution_count": 24,
     "metadata": {},
     "output_type": "execute_result"
    }
   ],
   "source": [
    "np.sqrt(mean_squared_error(y_train_new_0 ,best_gb_model_0.predict(x_train_new)))"
   ]
  },
  {
   "cell_type": "code",
   "execution_count": null,
   "id": "bfd296d4",
   "metadata": {},
   "outputs": [],
   "source": []
  },
  {
   "cell_type": "code",
   "execution_count": null,
   "id": "faf6b8b2",
   "metadata": {},
   "outputs": [],
   "source": []
  },
  {
   "cell_type": "code",
   "execution_count": 25,
   "id": "011e6bc3",
   "metadata": {},
   "outputs": [],
   "source": [
    "######################  Random Forest Regressor ################################\n",
    "rf_params = {\n",
    "    'n_estimators': [50, 100, 200, 300],\n",
    "    'max_depth': [None, 5, 10, 20],\n",
    "    'min_samples_split': [2, 5, 10],\n",
    "    'min_samples_leaf': [1, 2, 4],\n",
    "    'max_features': ['auto', 'sqrt', 'log2']\n",
    "}\n",
    "\n",
    "# Create RandomForestRegressor\n",
    "rf_reg = RandomForestRegressor()\n",
    "\n",
    "# Grid search\n",
    "grid_search_rf = GridSearchCV(estimator=rf_reg, param_grid=rf_params,\n",
    "                              cv=5, scoring='neg_mean_squared_error',\n",
    "                              n_jobs=-1)\n",
    "\n",
    "# Fit GridSearchCV\n",
    "grid_search_rf.fit(x_train_new, y_train_new_0)\n",
    "\n",
    "# Get the best model\n",
    "best_rf_model_0 = grid_search_rf.best_estimator_"
   ]
  },
  {
   "cell_type": "code",
   "execution_count": 26,
   "id": "87caa02f",
   "metadata": {},
   "outputs": [
    {
     "data": {
      "text/plain": [
       "0.26292647608292874"
      ]
     },
     "execution_count": 26,
     "metadata": {},
     "output_type": "execute_result"
    }
   ],
   "source": [
    "np.sqrt(mean_squared_error(y_test_new_0,best_rf_model_0.predict(x_test_new)))"
   ]
  },
  {
   "cell_type": "code",
   "execution_count": 27,
   "id": "bdea15c4",
   "metadata": {},
   "outputs": [
    {
     "data": {
      "text/plain": [
       "0.1082300350351303"
      ]
     },
     "execution_count": 27,
     "metadata": {},
     "output_type": "execute_result"
    }
   ],
   "source": [
    "np.sqrt(mean_squared_error(y_train_new_0,best_rf_model_0.predict(x_train_new)))"
   ]
  },
  {
   "cell_type": "code",
   "execution_count": null,
   "id": "6fff4c25",
   "metadata": {},
   "outputs": [],
   "source": []
  },
  {
   "cell_type": "code",
   "execution_count": null,
   "id": "0f634186",
   "metadata": {},
   "outputs": [],
   "source": []
  },
  {
   "cell_type": "code",
   "execution_count": null,
   "id": "e91eb527",
   "metadata": {},
   "outputs": [],
   "source": []
  },
  {
   "cell_type": "code",
   "execution_count": null,
   "id": "089b6eaf",
   "metadata": {},
   "outputs": [],
   "source": []
  },
  {
   "cell_type": "code",
   "execution_count": 28,
   "id": "2ea92b44",
   "metadata": {},
   "outputs": [
    {
     "name": "stdout",
     "output_type": "stream",
     "text": [
      "[LightGBM] [Warning] Accuracy may be bad since you didn't explicitly set num_leaves OR 2^max_depth > num_leaves. (num_leaves=31).\n",
      "[LightGBM] [Warning] Found whitespace in feature_names, replace with underlines\n",
      "[LightGBM] [Warning] Accuracy may be bad since you didn't explicitly set num_leaves OR 2^max_depth > num_leaves. (num_leaves=31).\n",
      "[LightGBM] [Info] Auto-choosing col-wise multi-threading, the overhead of testing was 0.000166 seconds.\n",
      "You can set `force_col_wise=true` to remove the overhead.\n",
      "[LightGBM] [Info] Total Bins 1299\n",
      "[LightGBM] [Info] Number of data points in the train set: 1197, number of used features: 17\n",
      "[LightGBM] [Info] Start training from score 13.228280\n",
      "[LightGBM] [Warning] No further splits with positive gain, best gain: -inf\n",
      "[LightGBM] [Warning] No further splits with positive gain, best gain: -inf\n",
      "[LightGBM] [Warning] No further splits with positive gain, best gain: -inf\n",
      "[LightGBM] [Warning] No further splits with positive gain, best gain: -inf\n",
      "[LightGBM] [Warning] No further splits with positive gain, best gain: -inf\n",
      "[LightGBM] [Warning] No further splits with positive gain, best gain: -inf\n",
      "[LightGBM] [Warning] No further splits with positive gain, best gain: -inf\n",
      "[LightGBM] [Warning] No further splits with positive gain, best gain: -inf\n",
      "[LightGBM] [Warning] No further splits with positive gain, best gain: -inf\n",
      "[LightGBM] [Warning] No further splits with positive gain, best gain: -inf\n",
      "[LightGBM] [Warning] No further splits with positive gain, best gain: -inf\n",
      "[LightGBM] [Warning] No further splits with positive gain, best gain: -inf\n",
      "[LightGBM] [Warning] No further splits with positive gain, best gain: -inf\n",
      "[LightGBM] [Warning] No further splits with positive gain, best gain: -inf\n",
      "[LightGBM] [Warning] No further splits with positive gain, best gain: -inf\n",
      "[LightGBM] [Warning] No further splits with positive gain, best gain: -inf\n",
      "[LightGBM] [Warning] No further splits with positive gain, best gain: -inf\n",
      "[LightGBM] [Warning] No further splits with positive gain, best gain: -inf\n",
      "[LightGBM] [Warning] No further splits with positive gain, best gain: -inf\n",
      "[LightGBM] [Warning] No further splits with positive gain, best gain: -inf\n",
      "[LightGBM] [Warning] No further splits with positive gain, best gain: -inf\n",
      "[LightGBM] [Warning] No further splits with positive gain, best gain: -inf\n",
      "[LightGBM] [Warning] No further splits with positive gain, best gain: -inf\n",
      "[LightGBM] [Warning] No further splits with positive gain, best gain: -inf\n",
      "[LightGBM] [Warning] No further splits with positive gain, best gain: -inf\n",
      "[LightGBM] [Warning] No further splits with positive gain, best gain: -inf\n",
      "[LightGBM] [Warning] No further splits with positive gain, best gain: -inf\n",
      "[LightGBM] [Warning] No further splits with positive gain, best gain: -inf\n",
      "[LightGBM] [Warning] No further splits with positive gain, best gain: -inf\n",
      "[LightGBM] [Warning] No further splits with positive gain, best gain: -inf\n",
      "[LightGBM] [Warning] No further splits with positive gain, best gain: -inf\n",
      "[LightGBM] [Warning] No further splits with positive gain, best gain: -inf\n",
      "[LightGBM] [Warning] No further splits with positive gain, best gain: -inf\n",
      "[LightGBM] [Warning] No further splits with positive gain, best gain: -inf\n",
      "[LightGBM] [Warning] No further splits with positive gain, best gain: -inf\n",
      "[LightGBM] [Warning] No further splits with positive gain, best gain: -inf\n",
      "[LightGBM] [Warning] No further splits with positive gain, best gain: -inf\n",
      "[LightGBM] [Warning] No further splits with positive gain, best gain: -inf\n",
      "[LightGBM] [Warning] No further splits with positive gain, best gain: -inf\n",
      "[LightGBM] [Warning] No further splits with positive gain, best gain: -inf\n",
      "[LightGBM] [Warning] No further splits with positive gain, best gain: -inf\n",
      "[LightGBM] [Warning] No further splits with positive gain, best gain: -inf\n",
      "[LightGBM] [Warning] No further splits with positive gain, best gain: -inf\n",
      "[LightGBM] [Warning] No further splits with positive gain, best gain: -inf\n",
      "[LightGBM] [Warning] No further splits with positive gain, best gain: -inf\n",
      "[LightGBM] [Warning] No further splits with positive gain, best gain: -inf\n",
      "[LightGBM] [Warning] No further splits with positive gain, best gain: -inf\n",
      "[LightGBM] [Warning] No further splits with positive gain, best gain: -inf\n",
      "[LightGBM] [Warning] No further splits with positive gain, best gain: -inf\n",
      "[LightGBM] [Warning] No further splits with positive gain, best gain: -inf\n"
     ]
    }
   ],
   "source": [
    "from lightgbm import LGBMRegressor\n",
    "\n",
    "# Define the parameter grid for LightGBM\n",
    "lgbm_params = {\n",
    "    'n_estimators': [50, 100, 200, 300],\n",
    "    'max_depth': [None, 5, 10, 20],\n",
    "    'learning_rate': [0.01, 0.1, 0.2],\n",
    "    'num_leaves': [31, 50, 100, 200],\n",
    "    'subsample': [0.5, 0.8, 1.0],\n",
    "    'colsample_bytree': [0.5, 0.8, 1.0],\n",
    "}\n",
    "\n",
    "# Create LGBMRegressor\n",
    "lgbm_reg = LGBMRegressor()\n",
    "\n",
    "# Grid search for LightGBM\n",
    "grid_search_lgbm = GridSearchCV(estimator=lgbm_reg, param_grid=lgbm_params,\n",
    "                                 cv=5, scoring='neg_mean_squared_error',\n",
    "                                 n_jobs=-1)\n",
    "\n",
    "# Fit GridSearchCV for LightGBM\n",
    "grid_search_lgbm.fit(x_train_new, y_train_new_0)\n",
    "\n",
    "# Get the best LightGBM model\n",
    "best_lgbm_model_0 = grid_search_lgbm.best_estimator_"
   ]
  },
  {
   "cell_type": "code",
   "execution_count": 29,
   "id": "93eb4dc5",
   "metadata": {},
   "outputs": [
    {
     "name": "stdout",
     "output_type": "stream",
     "text": [
      "[LightGBM] [Warning] Accuracy may be bad since you didn't explicitly set num_leaves OR 2^max_depth > num_leaves. (num_leaves=31).\n"
     ]
    },
    {
     "data": {
      "text/plain": [
       "0.2644717222240123"
      ]
     },
     "execution_count": 29,
     "metadata": {},
     "output_type": "execute_result"
    }
   ],
   "source": [
    "np.sqrt(mean_squared_error(y_test_new_0,best_lgbm_model_0.predict(x_test_new)))"
   ]
  },
  {
   "cell_type": "code",
   "execution_count": 30,
   "id": "4f08f60e",
   "metadata": {},
   "outputs": [
    {
     "name": "stdout",
     "output_type": "stream",
     "text": [
      "[LightGBM] [Warning] Accuracy may be bad since you didn't explicitly set num_leaves OR 2^max_depth > num_leaves. (num_leaves=31).\n"
     ]
    },
    {
     "data": {
      "text/plain": [
       "0.21310420473162198"
      ]
     },
     "execution_count": 30,
     "metadata": {},
     "output_type": "execute_result"
    }
   ],
   "source": [
    "np.sqrt(mean_squared_error(y_train_new_0, best_lgbm_model_0.predict(x_train_new)))"
   ]
  },
  {
   "cell_type": "code",
   "execution_count": null,
   "id": "1333ec43",
   "metadata": {},
   "outputs": [],
   "source": []
  },
  {
   "cell_type": "code",
   "execution_count": null,
   "id": "e9e05a68",
   "metadata": {},
   "outputs": [],
   "source": []
  },
  {
   "cell_type": "code",
   "execution_count": null,
   "id": "50caa016",
   "metadata": {},
   "outputs": [],
   "source": []
  },
  {
   "cell_type": "code",
   "execution_count": 31,
   "id": "35a0fde5",
   "metadata": {},
   "outputs": [],
   "source": [
    "from sklearn.ensemble import AdaBoostRegressor\n",
    "# Define the parameter grid for AdaBoost\n",
    "ada_params = {\n",
    "    'n_estimators': [50, 100, 200],\n",
    "    'learning_rate': [0.01, 0.1, 0.2],\n",
    "}\n",
    "\n",
    "# Create AdaBoostRegressor\n",
    "ada_reg = AdaBoostRegressor()\n",
    "\n",
    "# Grid search for AdaBoost\n",
    "grid_search_ada = GridSearchCV(estimator=ada_reg, param_grid=ada_params,\n",
    "                                cv=5, scoring='neg_mean_squared_error',\n",
    "                                n_jobs=-1)\n",
    "\n",
    "# Fit GridSearchCV for AdaBoost\n",
    "grid_search_ada.fit(x_train_new, y_train_new_0)\n",
    "\n",
    "# Get the best AdaBoost model\n",
    "best_ada_model_0 = grid_search_ada.best_estimator_"
   ]
  },
  {
   "cell_type": "code",
   "execution_count": 32,
   "id": "4fe66502",
   "metadata": {},
   "outputs": [
    {
     "data": {
      "text/plain": [
       "0.3210914598065669"
      ]
     },
     "execution_count": 32,
     "metadata": {},
     "output_type": "execute_result"
    }
   ],
   "source": [
    "np.sqrt(mean_squared_error(y_test_new_0,best_ada_model_0.predict(x_test_new)))"
   ]
  },
  {
   "cell_type": "code",
   "execution_count": 33,
   "id": "beddd9fb",
   "metadata": {},
   "outputs": [
    {
     "data": {
      "text/plain": [
       "0.31722187403428953"
      ]
     },
     "execution_count": 33,
     "metadata": {},
     "output_type": "execute_result"
    }
   ],
   "source": [
    "np.sqrt(mean_squared_error(y_train_new_0, best_ada_model_0.predict(x_train_new)))"
   ]
  },
  {
   "cell_type": "code",
   "execution_count": null,
   "id": "8cd4ad90",
   "metadata": {},
   "outputs": [],
   "source": []
  },
  {
   "cell_type": "code",
   "execution_count": null,
   "id": "2080302d",
   "metadata": {},
   "outputs": [],
   "source": []
  },
  {
   "cell_type": "code",
   "execution_count": 34,
   "id": "5e3ad6fc",
   "metadata": {},
   "outputs": [],
   "source": [
    "from sklearn.linear_model import ElasticNet\n",
    "from sklearn.model_selection import GridSearchCV\n",
    "\n",
    "# Define the parameter grid for ElasticNet\n",
    "elastic_net_params = {\n",
    "    'alpha': [0.1, 1.0, 10.0],\n",
    "    'l1_ratio': [0.1, 0.5, 0.9]\n",
    "}\n",
    "\n",
    "# Create ElasticNet regressor\n",
    "elastic_net = ElasticNet()\n",
    "\n",
    "# Grid search\n",
    "grid_search_elastic_net = GridSearchCV(estimator=elastic_net, param_grid=elastic_net_params,\n",
    "                                       cv=5, scoring='neg_mean_squared_error', n_jobs=-1)\n",
    "\n",
    "# Fit GridSearchCV\n",
    "grid_search_elastic_net.fit(x_train_new, y_train_new_0)\n",
    "\n",
    "# Get the best model\n",
    "best_elastic_net_model_0 = grid_search_elastic_net.best_estimator_"
   ]
  },
  {
   "cell_type": "code",
   "execution_count": 35,
   "id": "cc3b389d",
   "metadata": {},
   "outputs": [
    {
     "data": {
      "text/plain": [
       "0.30876394514441374"
      ]
     },
     "execution_count": 35,
     "metadata": {},
     "output_type": "execute_result"
    }
   ],
   "source": [
    "np.sqrt(mean_squared_error(y_test_new_0, best_elastic_net_model_0.predict(x_test_new)))"
   ]
  },
  {
   "cell_type": "code",
   "execution_count": 36,
   "id": "bfee9162",
   "metadata": {},
   "outputs": [
    {
     "data": {
      "text/plain": [
       "0.32675085493516287"
      ]
     },
     "execution_count": 36,
     "metadata": {},
     "output_type": "execute_result"
    }
   ],
   "source": [
    "np.sqrt(mean_squared_error(y_train_new_0, best_elastic_net_model_0.predict(x_train_new)))"
   ]
  },
  {
   "cell_type": "code",
   "execution_count": null,
   "id": "bb0568af",
   "metadata": {},
   "outputs": [],
   "source": []
  },
  {
   "cell_type": "code",
   "execution_count": null,
   "id": "3e296654",
   "metadata": {},
   "outputs": [],
   "source": []
  },
  {
   "cell_type": "code",
   "execution_count": 37,
   "id": "88ebeac7",
   "metadata": {},
   "outputs": [],
   "source": [
    "from sklearn.linear_model import Ridge\n",
    "# Define the parameter grid for Ridge\n",
    "ridge_params = {\n",
    "    'alpha': [0.1, 1.0, 10.0]\n",
    "}\n",
    "\n",
    "# Create Ridge regressor\n",
    "ridge_reg = Ridge()\n",
    "\n",
    "# Grid search\n",
    "grid_search_ridge = GridSearchCV(estimator=ridge_reg, param_grid=ridge_params,\n",
    "                                 cv=5, scoring='neg_mean_squared_error', n_jobs=-1)\n",
    "\n",
    "# Fit GridSearchCV\n",
    "grid_search_ridge.fit(x_train_new, y_train_new_0)\n",
    "\n",
    "# Get the best model\n",
    "best_ridge_model_0 = grid_search_ridge.best_estimator_"
   ]
  },
  {
   "cell_type": "code",
   "execution_count": 38,
   "id": "6518ec43",
   "metadata": {},
   "outputs": [
    {
     "data": {
      "text/plain": [
       "0.25008017226871676"
      ]
     },
     "execution_count": 38,
     "metadata": {},
     "output_type": "execute_result"
    }
   ],
   "source": [
    "np.sqrt(mean_squared_error(y_test_new_0, best_ridge_model_0.predict(x_test_new)))"
   ]
  },
  {
   "cell_type": "code",
   "execution_count": 39,
   "id": "a864bf47",
   "metadata": {},
   "outputs": [
    {
     "data": {
      "text/plain": [
       "0.27328596260880134"
      ]
     },
     "execution_count": 39,
     "metadata": {},
     "output_type": "execute_result"
    }
   ],
   "source": [
    "np.sqrt(mean_squared_error(y_train_new_0,best_ridge_model_0.predict(x_train_new)))"
   ]
  },
  {
   "cell_type": "code",
   "execution_count": null,
   "id": "eed11189",
   "metadata": {},
   "outputs": [],
   "source": []
  },
  {
   "cell_type": "code",
   "execution_count": null,
   "id": "1990fe86",
   "metadata": {},
   "outputs": [],
   "source": []
  },
  {
   "cell_type": "code",
   "execution_count": 40,
   "id": "ec1c2790",
   "metadata": {},
   "outputs": [],
   "source": [
    "from sklearn.linear_model import Lasso\n",
    "\n",
    "# Define the parameter grid for Lasso\n",
    "lasso_params = {\n",
    "    'alpha': [0.1, 1.0, 10.0],\n",
    "    'max_iter': [1000, 2000, 3000]\n",
    "}\n",
    "\n",
    "# Create Lasso regressor\n",
    "lasso_reg = Lasso()\n",
    "\n",
    "# Grid search\n",
    "grid_search_lasso = GridSearchCV(estimator=lasso_reg, param_grid=lasso_params,\n",
    "                                 cv=5, scoring='neg_mean_squared_error', n_jobs=-1)\n",
    "\n",
    "# Fit GridSearchCV\n",
    "grid_search_lasso.fit(x_train_new, y_train_new_0)\n",
    "\n",
    "# Get the best model\n",
    "best_lasso_model_0 = grid_search_lasso.best_estimator_\n"
   ]
  },
  {
   "cell_type": "code",
   "execution_count": 41,
   "id": "605ca94b",
   "metadata": {},
   "outputs": [
    {
     "data": {
      "text/plain": [
       "0.34174307841535834"
      ]
     },
     "execution_count": 41,
     "metadata": {},
     "output_type": "execute_result"
    }
   ],
   "source": [
    "np.sqrt(mean_squared_error(y_test_new_0, best_lasso_model_0.predict(x_test_new)))"
   ]
  },
  {
   "cell_type": "code",
   "execution_count": 42,
   "id": "9b2e1290",
   "metadata": {},
   "outputs": [
    {
     "data": {
      "text/plain": [
       "0.35374174500133865"
      ]
     },
     "execution_count": 42,
     "metadata": {},
     "output_type": "execute_result"
    }
   ],
   "source": [
    "np.sqrt(mean_squared_error(y_train_new_0, best_lasso_model_0.predict(x_train_new)))"
   ]
  },
  {
   "cell_type": "code",
   "execution_count": null,
   "id": "fd5c5a79",
   "metadata": {},
   "outputs": [],
   "source": []
  },
  {
   "cell_type": "code",
   "execution_count": null,
   "id": "202866d1",
   "metadata": {},
   "outputs": [],
   "source": []
  },
  {
   "cell_type": "code",
   "execution_count": null,
   "id": "efd8608a",
   "metadata": {},
   "outputs": [],
   "source": []
  },
  {
   "cell_type": "code",
   "execution_count": null,
   "id": "97a2af32",
   "metadata": {},
   "outputs": [],
   "source": []
  },
  {
   "cell_type": "code",
   "execution_count": null,
   "id": "830eae4e",
   "metadata": {},
   "outputs": [],
   "source": []
  },
  {
   "cell_type": "markdown",
   "id": "07c3b763",
   "metadata": {},
   "source": [
    "# Best model for cluster 1 "
   ]
  },
  {
   "cell_type": "code",
   "execution_count": 43,
   "id": "4009b710",
   "metadata": {},
   "outputs": [],
   "source": [
    "x_train_new_1 , x_test_new_1 , y_train_new_1, y_test_new_1 = train_test_split(X_train_cluster_1,y_train_cluster_1,test_size=0.2)\n"
   ]
  },
  {
   "cell_type": "code",
   "execution_count": 44,
   "id": "5c43c0a1",
   "metadata": {},
   "outputs": [
    {
     "name": "stdout",
     "output_type": "stream",
     "text": [
      "0.3373286334706058\n",
      "0.2888362184269877\n"
     ]
    }
   ],
   "source": [
    "gb_params = {\n",
    "    'n_estimators': [50, 100, 200, 300],\n",
    "    'learning_rate': [0.01, 0.05, 0.1, 0.2],\n",
    "    'max_depth': [3, 5, 7, 9],\n",
    "    'min_samples_split': [2, 5, 10],\n",
    "    'min_samples_leaf': [1, 2, 4],\n",
    "    'subsample': [0.5, 0.75, 1.0],\n",
    "    'max_features': ['auto', 'sqrt', 'log2']\n",
    "}\n",
    "\n",
    "# Create GradientBoostingRegressor\n",
    "gb_reg = GradientBoostingRegressor()\n",
    "\n",
    "# Grid search\n",
    "grid_search = GridSearchCV(estimator=gb_reg, param_grid=gb_params,\n",
    "                           cv=5, scoring='neg_mean_squared_error',\n",
    "                           n_jobs=-1)\n",
    "# Fit GridSearchCV\n",
    "grid_search.fit(x_train_new_1, y_train_new_1)\n",
    "\n",
    "# Get the best model\n",
    "best_gb_model_1 = grid_search.best_estimator_\n",
    "\n",
    "print(np.sqrt(mean_squared_error(y_test_new_1,best_gb_model_1.predict(x_test_new_1))))\n",
    "print(np.sqrt(mean_squared_error(y_train_new_1 ,best_gb_model_1.predict(x_train_new_1))))"
   ]
  },
  {
   "cell_type": "code",
   "execution_count": null,
   "id": "90121f28",
   "metadata": {},
   "outputs": [],
   "source": []
  },
  {
   "cell_type": "code",
   "execution_count": 45,
   "id": "b7d10684",
   "metadata": {},
   "outputs": [
    {
     "name": "stdout",
     "output_type": "stream",
     "text": [
      "0.3342401728315264\n",
      "0.22233598365146892\n"
     ]
    }
   ],
   "source": [
    "rf_params = {\n",
    "    'n_estimators': [50, 100, 200, 300],\n",
    "    'max_depth': [None, 5, 10, 20],\n",
    "    'min_samples_split': [2, 5, 10],\n",
    "    'min_samples_leaf': [1, 2, 4],\n",
    "    'max_features': ['auto', 'sqrt', 'log2']\n",
    "}\n",
    "\n",
    "# Create RandomForestRegressor\n",
    "rf_reg = RandomForestRegressor()\n",
    "\n",
    "# Grid search\n",
    "grid_search_rf = GridSearchCV(estimator=rf_reg, param_grid=rf_params,\n",
    "                              cv=5, scoring='neg_mean_squared_error',\n",
    "                              n_jobs=-1)\n",
    "\n",
    "# Fit GridSearchCV\n",
    "grid_search_rf.fit(x_train_new_1, y_train_new_1)\n",
    "\n",
    "# Get the best model\n",
    "best_rf_model_1 = grid_search_rf.best_estimator_\n",
    "\n",
    "print(np.sqrt(mean_squared_error(y_test_new_1,best_rf_model_1.predict(x_test_new_1))))\n",
    "print(np.sqrt(mean_squared_error(y_train_new_1,best_rf_model_1.predict(x_train_new_1))))"
   ]
  },
  {
   "cell_type": "code",
   "execution_count": null,
   "id": "020d36d9",
   "metadata": {},
   "outputs": [],
   "source": []
  },
  {
   "cell_type": "code",
   "execution_count": null,
   "id": "853f367c",
   "metadata": {},
   "outputs": [],
   "source": []
  },
  {
   "cell_type": "code",
   "execution_count": null,
   "id": "d1380f43",
   "metadata": {},
   "outputs": [],
   "source": []
  },
  {
   "cell_type": "code",
   "execution_count": null,
   "id": "ccb97d1d",
   "metadata": {},
   "outputs": [],
   "source": []
  },
  {
   "cell_type": "code",
   "execution_count": null,
   "id": "e44373e2",
   "metadata": {},
   "outputs": [],
   "source": []
  },
  {
   "cell_type": "code",
   "execution_count": 47,
   "id": "7f5bba97",
   "metadata": {},
   "outputs": [
    {
     "name": "stdout",
     "output_type": "stream",
     "text": [
      "0.3829750424030235\n",
      "0.363192082300507\n"
     ]
    }
   ],
   "source": [
    "# Define the parameter grid for AdaBoost\n",
    "ada_params = {\n",
    "    'n_estimators': [50, 100, 200],\n",
    "    'learning_rate': [0.01, 0.1, 0.2],\n",
    "}\n",
    "\n",
    "# Create AdaBoostRegressor\n",
    "ada_reg = AdaBoostRegressor()\n",
    "\n",
    "# Grid search for AdaBoost\n",
    "grid_search_ada = GridSearchCV(estimator=ada_reg, param_grid=ada_params,\n",
    "                                cv=5, scoring='neg_mean_squared_error',\n",
    "                                n_jobs=-1)\n",
    "\n",
    "# Fit GridSearchCV for AdaBoost\n",
    "grid_search_ada.fit(x_train_new_1, y_train_new_1)\n",
    "\n",
    "# Get the best AdaBoost model\n",
    "best_ada_model_1 = grid_search_ada.best_estimator_\n",
    "\n",
    "print(np.sqrt(mean_squared_error(y_test_new_1,best_ada_model_1.predict(x_test_new_1))))\n",
    "print(np.sqrt(mean_squared_error(y_train_new_1, best_ada_model_1.predict(x_train_new_1))))"
   ]
  },
  {
   "cell_type": "code",
   "execution_count": null,
   "id": "4dea4947",
   "metadata": {},
   "outputs": [],
   "source": []
  },
  {
   "cell_type": "code",
   "execution_count": 48,
   "id": "0ac6b07e",
   "metadata": {},
   "outputs": [
    {
     "name": "stdout",
     "output_type": "stream",
     "text": [
      "0.37194862771212855\n",
      "0.3753325412083456\n"
     ]
    }
   ],
   "source": [
    "from sklearn.linear_model import ElasticNet\n",
    "from sklearn.model_selection import GridSearchCV\n",
    "\n",
    "# Define the parameter grid for ElasticNet\n",
    "elastic_net_params = {\n",
    "    'alpha': [0.1, 1.0, 10.0],\n",
    "    'l1_ratio': [0.1, 0.5, 0.9]\n",
    "}\n",
    "\n",
    "# Create ElasticNet regressor\n",
    "elastic_net = ElasticNet()\n",
    "\n",
    "# Grid search\n",
    "grid_search_elastic_net = GridSearchCV(estimator=elastic_net, param_grid=elastic_net_params,\n",
    "                                       cv=5, scoring='neg_mean_squared_error', n_jobs=-1)\n",
    "\n",
    "# Fit GridSearchCV\n",
    "grid_search_elastic_net.fit(x_train_new_1, y_train_new_1)\n",
    "\n",
    "# Get the best model\n",
    "best_elastic_net_model_1 = grid_search_elastic_net.best_estimator_\n",
    "\n",
    "print(np.sqrt(mean_squared_error(y_test_new_1, best_elastic_net_model_1.predict(x_test_new_1))))\n",
    "print(np.sqrt(mean_squared_error(y_train_new_1, best_elastic_net_model_1.predict(x_train_new_1))))"
   ]
  },
  {
   "cell_type": "code",
   "execution_count": null,
   "id": "2ee7508c",
   "metadata": {},
   "outputs": [],
   "source": []
  },
  {
   "cell_type": "code",
   "execution_count": 49,
   "id": "c2fec3c6",
   "metadata": {},
   "outputs": [
    {
     "name": "stdout",
     "output_type": "stream",
     "text": [
      "0.3249789017510868\n",
      "0.32869238323124994\n"
     ]
    }
   ],
   "source": [
    "# Define the parameter grid for Ridge\n",
    "ridge_params = {\n",
    "    'alpha': [0.1, 1.0, 10.0]\n",
    "}\n",
    "\n",
    "# Create Ridge regressor\n",
    "ridge_reg = Ridge()\n",
    "\n",
    "# Grid search\n",
    "grid_search_ridge = GridSearchCV(estimator=ridge_reg, param_grid=ridge_params,\n",
    "                                 cv=5, scoring='neg_mean_squared_error', n_jobs=-1)\n",
    "\n",
    "# Fit GridSearchCV\n",
    "grid_search_ridge.fit(x_train_new_1, y_train_new_1)\n",
    "\n",
    "# Get the best model\n",
    "best_ridge_model_1 = grid_search_ridge.best_estimator_\n",
    "\n",
    "\n",
    "print(np.sqrt(mean_squared_error(y_test_new_1, best_ridge_model_1.predict(x_test_new_1))))\n",
    "print(np.sqrt(mean_squared_error(y_train_new_1,best_ridge_model_1.predict(x_train_new_1))))"
   ]
  },
  {
   "cell_type": "code",
   "execution_count": null,
   "id": "182aeabd",
   "metadata": {},
   "outputs": [],
   "source": []
  },
  {
   "cell_type": "code",
   "execution_count": 50,
   "id": "0088773d",
   "metadata": {},
   "outputs": [
    {
     "name": "stdout",
     "output_type": "stream",
     "text": [
      "0.4196620738869384\n",
      "0.4139230482262574\n"
     ]
    }
   ],
   "source": [
    "from sklearn.linear_model import Lasso\n",
    "\n",
    "# Define the parameter grid for Lasso\n",
    "lasso_params = {\n",
    "    'alpha': [0.1, 1.0, 10.0],\n",
    "    'max_iter': [1000, 2000, 3000]\n",
    "}\n",
    "\n",
    "# Create Lasso regressor\n",
    "lasso_reg = Lasso()\n",
    "\n",
    "# Grid search\n",
    "grid_search_lasso = GridSearchCV(estimator=lasso_reg, param_grid=lasso_params,\n",
    "                                 cv=5, scoring='neg_mean_squared_error', n_jobs=-1)\n",
    "\n",
    "# Fit GridSearchCV\n",
    "grid_search_lasso.fit(x_train_new_1, y_train_new_1)\n",
    "\n",
    "# Get the best model\n",
    "best_lasso_model_1 = grid_search_lasso.best_estimator_\n",
    "\n",
    "\n",
    "print(np.sqrt(mean_squared_error(y_test_new_1, best_lasso_model_1.predict(x_test_new_1))))\n",
    "print(np.sqrt(mean_squared_error(y_train_new_1, best_lasso_model_1.predict(x_train_new_1))))"
   ]
  },
  {
   "cell_type": "code",
   "execution_count": null,
   "id": "2f2d3ad6",
   "metadata": {},
   "outputs": [],
   "source": []
  },
  {
   "cell_type": "code",
   "execution_count": null,
   "id": "b9f6107d",
   "metadata": {},
   "outputs": [],
   "source": []
  },
  {
   "cell_type": "code",
   "execution_count": null,
   "id": "2b98f381",
   "metadata": {},
   "outputs": [],
   "source": []
  },
  {
   "cell_type": "markdown",
   "id": "51b47910",
   "metadata": {},
   "source": [
    "# Best model for cluster 2 "
   ]
  },
  {
   "cell_type": "code",
   "execution_count": 51,
   "id": "7413c3bb",
   "metadata": {},
   "outputs": [],
   "source": [
    "x_train_new_2 , x_test_new_2 , y_train_new_2, y_test_new_2 = train_test_split(X_train_cluster_2,y_train_cluster_2,\n",
    "                                                                              test_size=0.2)"
   ]
  },
  {
   "cell_type": "code",
   "execution_count": 52,
   "id": "b48c0c93",
   "metadata": {},
   "outputs": [
    {
     "name": "stdout",
     "output_type": "stream",
     "text": [
      "0.2958777729677616\n",
      "0.25245692321050456\n"
     ]
    }
   ],
   "source": [
    "gb_params = {\n",
    "    'n_estimators': [50, 100, 200, 300],\n",
    "    'learning_rate': [0.01, 0.05, 0.1, 0.2],\n",
    "    'max_depth': [3, 5, 7, 9],\n",
    "    'min_samples_split': [2, 5, 10],\n",
    "    'min_samples_leaf': [1, 2, 4],\n",
    "    'subsample': [0.5, 0.75, 1.0],\n",
    "    'max_features': ['auto', 'sqrt', 'log2']\n",
    "}\n",
    "\n",
    "# Create GradientBoostingRegressor\n",
    "gb_reg = GradientBoostingRegressor()\n",
    "\n",
    "# Grid search\n",
    "grid_search = GridSearchCV(estimator=gb_reg, param_grid=gb_params,\n",
    "                           cv=5, scoring='neg_mean_squared_error',\n",
    "                           n_jobs=-1)\n",
    "# Fit GridSearchCV\n",
    "grid_search.fit(x_train_new_2, y_train_new_2)\n",
    "\n",
    "# Get the best model\n",
    "best_gb_model_2 = grid_search.best_estimator_\n",
    "\n",
    "print(np.sqrt(mean_squared_error(y_test_new_2,best_gb_model_2.predict(x_test_new_2))))\n",
    "print(np.sqrt(mean_squared_error(y_train_new_2 ,best_gb_model_2.predict(x_train_new_2))))"
   ]
  },
  {
   "cell_type": "code",
   "execution_count": null,
   "id": "7f5ba97c",
   "metadata": {},
   "outputs": [],
   "source": []
  },
  {
   "cell_type": "code",
   "execution_count": null,
   "id": "b767fc88",
   "metadata": {},
   "outputs": [],
   "source": []
  },
  {
   "cell_type": "code",
   "execution_count": null,
   "id": "628fb133",
   "metadata": {},
   "outputs": [],
   "source": []
  },
  {
   "cell_type": "code",
   "execution_count": null,
   "id": "a4b12d7d",
   "metadata": {},
   "outputs": [],
   "source": []
  },
  {
   "cell_type": "code",
   "execution_count": 53,
   "id": "d4048658",
   "metadata": {},
   "outputs": [
    {
     "name": "stdout",
     "output_type": "stream",
     "text": [
      "0.31878475580678944\n",
      "0.17383993066943068\n"
     ]
    }
   ],
   "source": [
    "rf_params = {\n",
    "    'n_estimators': [50, 100, 200, 300],\n",
    "    'max_depth': [None, 5, 10, 20],\n",
    "    'min_samples_split': [2, 5, 10],\n",
    "    'min_samples_leaf': [1, 2, 4],\n",
    "    'max_features': ['auto', 'sqrt', 'log2']\n",
    "}\n",
    "\n",
    "# Create RandomForestRegressor\n",
    "rf_reg = RandomForestRegressor()\n",
    "\n",
    "# Grid search\n",
    "grid_search_rf = GridSearchCV(estimator=rf_reg, param_grid=rf_params,\n",
    "                              cv=5, scoring='neg_mean_squared_error',\n",
    "                              n_jobs=-1)\n",
    "\n",
    "# Fit GridSearchCV\n",
    "grid_search_rf.fit(x_train_new_2, y_train_new_2)\n",
    "\n",
    "# Get the best model\n",
    "best_rf_model_2 = grid_search_rf.best_estimator_\n",
    "\n",
    "print(np.sqrt(mean_squared_error(y_test_new_2,best_rf_model_2.predict(x_test_new_2))))\n",
    "print(np.sqrt(mean_squared_error(y_train_new_2,best_rf_model_2.predict(x_train_new_2))))\n"
   ]
  },
  {
   "cell_type": "code",
   "execution_count": null,
   "id": "34c03807",
   "metadata": {},
   "outputs": [],
   "source": []
  },
  {
   "cell_type": "code",
   "execution_count": null,
   "id": "e15cbe36",
   "metadata": {},
   "outputs": [],
   "source": []
  },
  {
   "cell_type": "code",
   "execution_count": null,
   "id": "65b88d2c",
   "metadata": {},
   "outputs": [],
   "source": []
  },
  {
   "cell_type": "code",
   "execution_count": null,
   "id": "465d2ecc",
   "metadata": {},
   "outputs": [],
   "source": []
  },
  {
   "cell_type": "code",
   "execution_count": 55,
   "id": "37e609c5",
   "metadata": {},
   "outputs": [
    {
     "name": "stdout",
     "output_type": "stream",
     "text": [
      "0.39559923761445615\n",
      "0.35257178183380783\n"
     ]
    }
   ],
   "source": [
    "from sklearn.ensemble import AdaBoostRegressor\n",
    "# Define the parameter grid for AdaBoost\n",
    "ada_params = {\n",
    "    'n_estimators': [50, 100, 200],\n",
    "    'learning_rate': [0.01, 0.1, 0.2],\n",
    "}\n",
    "\n",
    "# Create AdaBoostRegressor\n",
    "ada_reg = AdaBoostRegressor()\n",
    "\n",
    "# Grid search for AdaBoost\n",
    "grid_search_ada = GridSearchCV(estimator=ada_reg, param_grid=ada_params,\n",
    "                                cv=5, scoring='neg_mean_squared_error',\n",
    "                                n_jobs=-1)\n",
    "\n",
    "# Fit GridSearchCV for AdaBoost\n",
    "grid_search_ada.fit(x_train_new_2, y_train_new_2)\n",
    "\n",
    "# Get the best AdaBoost model\n",
    "best_ada_model_2 = grid_search_ada.best_estimator_\n",
    "\n",
    "print(np.sqrt(mean_squared_error(y_test_new_2,best_ada_model_2.predict(x_test_new_2))))\n",
    "print(np.sqrt(mean_squared_error(y_train_new_2, best_ada_model_2.predict(x_train_new_2))))"
   ]
  },
  {
   "cell_type": "code",
   "execution_count": null,
   "id": "3afa9797",
   "metadata": {},
   "outputs": [],
   "source": []
  },
  {
   "cell_type": "code",
   "execution_count": 56,
   "id": "01d48ed5",
   "metadata": {},
   "outputs": [
    {
     "name": "stdout",
     "output_type": "stream",
     "text": [
      "0.3932434976130421\n",
      "0.3642015884295622\n"
     ]
    }
   ],
   "source": [
    "from sklearn.linear_model import ElasticNet\n",
    "from sklearn.model_selection import GridSearchCV\n",
    "\n",
    "# Define the parameter grid for ElasticNet\n",
    "elastic_net_params = {\n",
    "    'alpha': [0.1, 1.0, 10.0],\n",
    "    'l1_ratio': [0.1, 0.5, 0.9]\n",
    "}\n",
    "\n",
    "# Create ElasticNet regressor\n",
    "elastic_net = ElasticNet()\n",
    "\n",
    "# Grid search\n",
    "grid_search_elastic_net = GridSearchCV(estimator=elastic_net, param_grid=elastic_net_params,\n",
    "                                       cv=5, scoring='neg_mean_squared_error', n_jobs=-1)\n",
    "\n",
    "# Fit GridSearchCV\n",
    "grid_search_elastic_net.fit(x_train_new_2, y_train_new_2)\n",
    "\n",
    "# Get the best model\n",
    "best_elastic_net_model_2 = grid_search_elastic_net.best_estimator_\n",
    "\n",
    "print(np.sqrt(mean_squared_error(y_test_new_2, best_elastic_net_model_2.predict(x_test_new_2))))\n",
    "print(np.sqrt(mean_squared_error(y_train_new_2, best_elastic_net_model_2.predict(x_train_new_2))))"
   ]
  },
  {
   "cell_type": "code",
   "execution_count": null,
   "id": "65a17e0a",
   "metadata": {},
   "outputs": [],
   "source": []
  },
  {
   "cell_type": "code",
   "execution_count": 58,
   "id": "bf031031",
   "metadata": {},
   "outputs": [
    {
     "name": "stdout",
     "output_type": "stream",
     "text": [
      "0.32117793093806624\n",
      "0.32382971512527964\n"
     ]
    }
   ],
   "source": [
    "from sklearn.linear_model import Ridge\n",
    "# Define the parameter grid for Ridge\n",
    "ridge_params = {\n",
    "    'alpha': [0.1, 1.0, 10.0]\n",
    "}\n",
    "\n",
    "# Create Ridge regressor\n",
    "ridge_reg = Ridge()\n",
    "\n",
    "# Grid search\n",
    "grid_search_ridge = GridSearchCV(estimator=ridge_reg, param_grid=ridge_params,\n",
    "                                 cv=5, scoring='neg_mean_squared_error', n_jobs=-1)\n",
    "\n",
    "# Fit GridSearchCV\n",
    "grid_search_ridge.fit(x_train_new_2, y_train_new_2)\n",
    "\n",
    "# Get the best model\n",
    "best_ridge_model_2 = grid_search_ridge.best_estimator_\n",
    "\n",
    "\n",
    "print(np.sqrt(mean_squared_error(y_test_new_2, best_ridge_model_2.predict(x_test_new_2))))\n",
    "print(np.sqrt(mean_squared_error(y_train_new_2,best_ridge_model_2.predict(x_train_new_2))))"
   ]
  },
  {
   "cell_type": "code",
   "execution_count": null,
   "id": "db8b97b4",
   "metadata": {},
   "outputs": [],
   "source": []
  },
  {
   "cell_type": "code",
   "execution_count": 59,
   "id": "532e206e",
   "metadata": {},
   "outputs": [
    {
     "name": "stdout",
     "output_type": "stream",
     "text": [
      "0.42850535486651603\n",
      "0.40662988601390226\n"
     ]
    }
   ],
   "source": [
    "from sklearn.linear_model import Lasso\n",
    "\n",
    "# Define the parameter grid for Lasso\n",
    "lasso_params = {\n",
    "    'alpha': [0.1, 1.0, 10.0],\n",
    "    'max_iter': [1000, 2000, 3000]\n",
    "}\n",
    "\n",
    "# Create Lasso regressor\n",
    "lasso_reg = Lasso()\n",
    "\n",
    "# Grid search\n",
    "grid_search_lasso = GridSearchCV(estimator=lasso_reg, param_grid=lasso_params,\n",
    "                                 cv=5, scoring='neg_mean_squared_error', n_jobs=-1)\n",
    "\n",
    "# Fit GridSearchCV\n",
    "grid_search_lasso.fit(x_train_new_2, y_train_new_2)\n",
    "\n",
    "# Get the best model\n",
    "best_lasso_model_2 = grid_search_lasso.best_estimator_\n",
    "\n",
    "\n",
    "print(np.sqrt(mean_squared_error(y_test_new_2, best_lasso_model_2.predict(x_test_new_2))))\n",
    "print(np.sqrt(mean_squared_error(y_train_new_2, best_lasso_model_2.predict(x_train_new_2))))"
   ]
  },
  {
   "cell_type": "code",
   "execution_count": null,
   "id": "5ec8c8c1",
   "metadata": {},
   "outputs": [],
   "source": []
  },
  {
   "cell_type": "code",
   "execution_count": null,
   "id": "6442a87f",
   "metadata": {},
   "outputs": [],
   "source": []
  },
  {
   "cell_type": "code",
   "execution_count": null,
   "id": "c7d75c10",
   "metadata": {},
   "outputs": [],
   "source": []
  },
  {
   "cell_type": "code",
   "execution_count": null,
   "id": "d8e6c75c",
   "metadata": {},
   "outputs": [],
   "source": []
  },
  {
   "cell_type": "code",
   "execution_count": null,
   "id": "14a1ffd5",
   "metadata": {},
   "outputs": [],
   "source": []
  },
  {
   "cell_type": "code",
   "execution_count": null,
   "id": "8eb3de38",
   "metadata": {},
   "outputs": [],
   "source": []
  },
  {
   "cell_type": "markdown",
   "id": "2c1f79d5",
   "metadata": {},
   "source": [
    "# Final Evaluation "
   ]
  },
  {
   "cell_type": "code",
   "execution_count": null,
   "id": "c225bfb1",
   "metadata": {},
   "outputs": [],
   "source": [
    "new_data_clusters = kproto.predict(X_test_new, categorical=categorical_columns)\n",
    "X_test_new['cluster_label'] = new_data_clusters\n",
    "\n",
    "\n",
    "best_model_for_cluster_0 = best_ridge_model_0\n",
    "best_model_for_cluster_1 = best_rf_model_1\n",
    "best_model_for_cluster_2 = best_gb_model_2"
   ]
  },
  {
   "cell_type": "code",
   "execution_count": 68,
   "id": "2eeb6091",
   "metadata": {},
   "outputs": [
    {
     "name": "stdout",
     "output_type": "stream",
     "text": [
      "Total RMSE: 0.37326935648065024\n",
      "Cluster RMSEs: {0: 0.29493414023519565, 1: 0.44047823035764466, 2: 0.3593471451267573}\n"
     ]
    }
   ],
   "source": [
    "predictions = {}\n",
    "cluster_rmses = {}\n",
    "\n",
    "# Iterate over each cluster and its corresponding best model\n",
    "for cluster_label, best_model in zip(range(kproto.n_clusters), [best_model_for_cluster_0, best_model_for_cluster_1, best_model_for_cluster_2]):\n",
    "    # Filter test data based on cluster label\n",
    "    X_test_cluster = X_test_new[X_test_new['cluster_label'] == cluster_label]\n",
    "    y_test_cluster = y_test_new[X_test_new['cluster_label'] == cluster_label]\n",
    "    \n",
    "    # Make predictions using the best model for this cluster\n",
    "    y_pred_cluster = best_model.predict(X_test_cluster.drop(columns=['cluster_label']))\n",
    "    \n",
    "    # Store predictions for this cluster\n",
    "    predictions[cluster_label] = (X_test_cluster, y_pred_cluster, y_test_cluster)\n",
    "    \n",
    "    # Calculate RMSE for this cluster\n",
    "    cluster_rmse = np.sqrt(mean_squared_error(y_test_cluster, y_pred_cluster))\n",
    "    cluster_rmses[cluster_label] = cluster_rmse\n",
    "\n",
    "# Calculate RMSE for all clusters combined\n",
    "all_y_pred = np.concatenate([y_pred_cluster for _, (_, y_pred_cluster, _) in predictions.items()])\n",
    "all_y_test = np.concatenate([y_test_cluster for _, (_, _, y_test_cluster) in predictions.items()])\n",
    "total_rmse = np.sqrt(mean_squared_error(all_y_test, all_y_pred))\n",
    "\n",
    "print(\"Total RMSE:\", total_rmse)\n",
    "print(\"Cluster RMSEs:\", cluster_rmses)"
   ]
  },
  {
   "cell_type": "code",
   "execution_count": null,
   "id": "bc07a5d5",
   "metadata": {},
   "outputs": [],
   "source": []
  },
  {
   "cell_type": "code",
   "execution_count": null,
   "id": "3dd1b2fb",
   "metadata": {},
   "outputs": [],
   "source": []
  },
  {
   "cell_type": "code",
   "execution_count": null,
   "id": "a3f31e84",
   "metadata": {},
   "outputs": [],
   "source": []
  },
  {
   "cell_type": "code",
   "execution_count": null,
   "id": "1a5f8517",
   "metadata": {},
   "outputs": [],
   "source": []
  }
 ],
 "metadata": {
  "kernelspec": {
   "display_name": "Python 3",
   "language": "python",
   "name": "python3"
  },
  "language_info": {
   "codemirror_mode": {
    "name": "ipython",
    "version": 3
   },
   "file_extension": ".py",
   "mimetype": "text/x-python",
   "name": "python",
   "nbconvert_exporter": "python",
   "pygments_lexer": "ipython3",
   "version": "3.11.5"
  }
 },
 "nbformat": 4,
 "nbformat_minor": 5
}
